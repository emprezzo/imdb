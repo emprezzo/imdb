{
 "cells": [
  {
   "cell_type": "markdown",
   "id": "eca95683-6fbd-4fc7-838c-e0e88bc7d21d",
   "metadata": {},
   "source": [
    "### Create a dataframe containing info for all movies"
   ]
  },
  {
   "cell_type": "code",
   "execution_count": null,
   "id": "c48c192d-da4a-4a9d-b205-3acbb4a0cad8",
   "metadata": {},
   "outputs": [],
   "source": [
    "import numpy as np\n",
    "import requests\n",
    "import re\n",
    "import pandas as pd\n",
    "import os\n",
    "import matplotlib.pyplot as plt\n",
    "from google.cloud import storage\n",
    "from bs4 import BeautifulSoup\n",
    "from google.cloud import storage\n"
   ]
  },
  {
   "cell_type": "code",
   "execution_count": null,
   "id": "6f6425a2-49ed-41a4-be1a-a0fd827c3637",
   "metadata": {},
   "outputs": [],
   "source": [
    "# retrieve the datasets in a .csv file. RUN ONCE to update data\n",
    "# %run scraping_imdb_movies.ipynb"
   ]
  },
  {
   "cell_type": "code",
   "execution_count": null,
   "id": "acd9b7d8-67f7-4d63-9217-d59548e7c2ef",
   "metadata": {},
   "outputs": [],
   "source": [
    "# combine files into a single dataframe\n",
    "# movies_df = get_all_movies(csv_list)   \n",
    "# movies_csv = movies_df.to_csv('movies.csv', index=False)"
   ]
  },
  {
   "cell_type": "code",
   "execution_count": null,
   "id": "3787e4d8-3a5b-4ed0-a130-c99b3eff6734",
   "metadata": {},
   "outputs": [],
   "source": [
    "# store dataset in gcs. RUN ONCE\n",
    "# client = storage.Client()\n",
    "# bucket = client.get_bucket('ezhou1-bucket1')\n",
    "# bucket.blob('imdb/movies.csv').upload_from_string(movies_df.to_csv(index=False), 'movies.csv')"
   ]
  },
  {
   "cell_type": "code",
   "execution_count": null,
   "id": "8da47711-cde9-4e4d-bc2e-7bbf54a3f3ad",
   "metadata": {},
   "outputs": [],
   "source": [
    "# retrieve unprocessed data from gcs\n",
    "movies_df = pd.read_csv('gs://bucket/movies.csv')"
   ]
  },
  {
   "cell_type": "markdown",
   "id": "3b1893e0-b2a2-4ad8-b446-fa951f39795a",
   "metadata": {},
   "source": [
    "## Data Understanding and Preparation  \n",
    "- Describing the dataframe\n",
    "- Dropping irrelevant columns/rows  \n",
    "- Renaming columns  \n",
    "- Feature creation"
   ]
  },
  {
   "cell_type": "code",
   "execution_count": null,
   "id": "864278b1-c0ac-4955-8fcc-23cfbfec99f4",
   "metadata": {},
   "outputs": [
    {
     "data": {
      "text/html": [
       "<div>\n",
       "<style scoped>\n",
       "    .dataframe tbody tr th:only-of-type {\n",
       "        vertical-align: middle;\n",
       "    }\n",
       "\n",
       "    .dataframe tbody tr th {\n",
       "        vertical-align: top;\n",
       "    }\n",
       "\n",
       "    .dataframe thead th {\n",
       "        text-align: right;\n",
       "    }\n",
       "</style>\n",
       "<table border=\"1\" class=\"dataframe\">\n",
       "  <thead>\n",
       "    <tr style=\"text-align: right;\">\n",
       "      <th></th>\n",
       "      <th>Unnamed: 0</th>\n",
       "      <th>title</th>\n",
       "      <th>year</th>\n",
       "      <th>certificate</th>\n",
       "      <th>time</th>\n",
       "      <th>genre</th>\n",
       "      <th>rating</th>\n",
       "      <th>metascore</th>\n",
       "      <th>simple_desc</th>\n",
       "      <th>directors</th>\n",
       "      <th>stars</th>\n",
       "      <th>votes</th>\n",
       "      <th>gross</th>\n",
       "    </tr>\n",
       "  </thead>\n",
       "  <tbody>\n",
       "    <tr>\n",
       "      <th>0</th>\n",
       "      <td>0</td>\n",
       "      <td>Spider-Man: Across the Spider-Verse</td>\n",
       "      <td>(2023)</td>\n",
       "      <td>PG</td>\n",
       "      <td>140 min</td>\n",
       "      <td>Animation, Action, Adventure</td>\n",
       "      <td>9.1</td>\n",
       "      <td>86</td>\n",
       "      <td>Miles Morales catapults across the Multiverse,...</td>\n",
       "      <td>['Joaquim Dos Santos', 'Kemp Powers', 'Justin ...</td>\n",
       "      <td>['Shameik Moore', 'Hailee Steinfeld', 'Brian T...</td>\n",
       "      <td>79,742</td>\n",
       "      <td>-</td>\n",
       "    </tr>\n",
       "    <tr>\n",
       "      <th>1</th>\n",
       "      <td>1</td>\n",
       "      <td>The Dark Knight</td>\n",
       "      <td>(2008)</td>\n",
       "      <td>PG-13</td>\n",
       "      <td>152 min</td>\n",
       "      <td>Action, Crime, Drama</td>\n",
       "      <td>9.0</td>\n",
       "      <td>84</td>\n",
       "      <td>When the menace known as the Joker wreaks havo...</td>\n",
       "      <td>['Christopher Nolan']</td>\n",
       "      <td>['Christian Bale', 'Heath Ledger', 'Aaron Eckh...</td>\n",
       "      <td>2,721,730</td>\n",
       "      <td>$534.86M</td>\n",
       "    </tr>\n",
       "    <tr>\n",
       "      <th>2</th>\n",
       "      <td>2</td>\n",
       "      <td>The Lord of the Rings: The Return of the King</td>\n",
       "      <td>(2003)</td>\n",
       "      <td>PG-13</td>\n",
       "      <td>201 min</td>\n",
       "      <td>Action, Adventure, Drama</td>\n",
       "      <td>9.0</td>\n",
       "      <td>94</td>\n",
       "      <td>Gandalf and Aragorn lead the World of Men agai...</td>\n",
       "      <td>['Peter Jackson']</td>\n",
       "      <td>['Elijah Wood', 'Viggo Mortensen', 'Ian McKell...</td>\n",
       "      <td>1,889,031</td>\n",
       "      <td>$377.85M</td>\n",
       "    </tr>\n",
       "    <tr>\n",
       "      <th>3</th>\n",
       "      <td>3</td>\n",
       "      <td>Inception</td>\n",
       "      <td>(2010)</td>\n",
       "      <td>PG-13</td>\n",
       "      <td>148 min</td>\n",
       "      <td>Action, Adventure, Sci-Fi</td>\n",
       "      <td>8.8</td>\n",
       "      <td>74</td>\n",
       "      <td>A thief who steals corporate secrets through t...</td>\n",
       "      <td>['Christopher Nolan']</td>\n",
       "      <td>['Leonardo DiCaprio', 'Joseph Gordon-Levitt', ...</td>\n",
       "      <td>2,415,873</td>\n",
       "      <td>$292.58M</td>\n",
       "    </tr>\n",
       "    <tr>\n",
       "      <th>4</th>\n",
       "      <td>4</td>\n",
       "      <td>The Lord of the Rings: The Fellowship of the Ring</td>\n",
       "      <td>(2001)</td>\n",
       "      <td>PG-13</td>\n",
       "      <td>178 min</td>\n",
       "      <td>Action, Adventure, Drama</td>\n",
       "      <td>8.8</td>\n",
       "      <td>92</td>\n",
       "      <td>A meek Hobbit from the Shire and eight compani...</td>\n",
       "      <td>['Peter Jackson']</td>\n",
       "      <td>['Elijah Wood', 'Ian McKellen', 'Orlando Bloom...</td>\n",
       "      <td>1,917,638</td>\n",
       "      <td>$315.54M</td>\n",
       "    </tr>\n",
       "  </tbody>\n",
       "</table>\n",
       "</div>"
      ],
      "text/plain": [
       "   Unnamed: 0                                              title    year  \\\n",
       "0           0                Spider-Man: Across the Spider-Verse  (2023)   \n",
       "1           1                                    The Dark Knight  (2008)   \n",
       "2           2      The Lord of the Rings: The Return of the King  (2003)   \n",
       "3           3                                          Inception  (2010)   \n",
       "4           4  The Lord of the Rings: The Fellowship of the Ring  (2001)   \n",
       "\n",
       "  certificate     time                         genre  rating   metascore  \\\n",
       "0          PG  140 min  Animation, Action, Adventure     9.1  86           \n",
       "1       PG-13  152 min          Action, Crime, Drama     9.0  84           \n",
       "2       PG-13  201 min      Action, Adventure, Drama     9.0  94           \n",
       "3       PG-13  148 min     Action, Adventure, Sci-Fi     8.8  74           \n",
       "4       PG-13  178 min      Action, Adventure, Drama     8.8  92           \n",
       "\n",
       "                                         simple_desc  \\\n",
       "0  Miles Morales catapults across the Multiverse,...   \n",
       "1  When the menace known as the Joker wreaks havo...   \n",
       "2  Gandalf and Aragorn lead the World of Men agai...   \n",
       "3  A thief who steals corporate secrets through t...   \n",
       "4  A meek Hobbit from the Shire and eight compani...   \n",
       "\n",
       "                                           directors  \\\n",
       "0  ['Joaquim Dos Santos', 'Kemp Powers', 'Justin ...   \n",
       "1                              ['Christopher Nolan']   \n",
       "2                                  ['Peter Jackson']   \n",
       "3                              ['Christopher Nolan']   \n",
       "4                                  ['Peter Jackson']   \n",
       "\n",
       "                                               stars      votes     gross  \n",
       "0  ['Shameik Moore', 'Hailee Steinfeld', 'Brian T...     79,742         -  \n",
       "1  ['Christian Bale', 'Heath Ledger', 'Aaron Eckh...  2,721,730  $534.86M  \n",
       "2  ['Elijah Wood', 'Viggo Mortensen', 'Ian McKell...  1,889,031  $377.85M  \n",
       "3  ['Leonardo DiCaprio', 'Joseph Gordon-Levitt', ...  2,415,873  $292.58M  \n",
       "4  ['Elijah Wood', 'Ian McKellen', 'Orlando Bloom...  1,917,638  $315.54M  "
      ]
     },
     "execution_count": 91,
     "metadata": {},
     "output_type": "execute_result"
    }
   ],
   "source": [
    "movies_df.head(5)"
   ]
  },
  {
   "cell_type": "code",
   "execution_count": null,
   "id": "cc283d98-21ae-4d8d-bd26-e7f424866206",
   "metadata": {},
   "outputs": [
    {
     "name": "stdout",
     "output_type": "stream",
     "text": [
      "<class 'pandas.core.frame.DataFrame'>\n",
      "RangeIndex: 4355 entries, 0 to 4354\n",
      "Data columns (total 13 columns):\n",
      " #   Column       Non-Null Count  Dtype  \n",
      "---  ------       --------------  -----  \n",
      " 0   Unnamed: 0   4355 non-null   int64  \n",
      " 1   title        4355 non-null   object \n",
      " 2   year         4355 non-null   object \n",
      " 3   certificate  4355 non-null   object \n",
      " 4   time         4355 non-null   object \n",
      " 5   genre        4355 non-null   object \n",
      " 6   rating       4355 non-null   float64\n",
      " 7   metascore    4355 non-null   object \n",
      " 8   simple_desc  4355 non-null   object \n",
      " 9   directors    4355 non-null   object \n",
      " 10  stars        4355 non-null   object \n",
      " 11  votes        4355 non-null   object \n",
      " 12  gross        4355 non-null   object \n",
      "dtypes: float64(1), int64(1), object(11)\n",
      "memory usage: 442.4+ KB\n"
     ]
    }
   ],
   "source": [
    "movies_df.info()"
   ]
  },
  {
   "cell_type": "code",
   "execution_count": null,
   "id": "2e2d331d-bc8c-4df2-9a0f-525d8a3d9a5e",
   "metadata": {},
   "outputs": [],
   "source": [
    "movies_df.columns\n",
    "df=movies_df.drop_duplicates().copy() # drops all 42 duplicate rows"
   ]
  },
  {
   "cell_type": "code",
   "execution_count": null,
   "id": "095b23b1-742f-4afa-a8ae-9a155c67bd33",
   "metadata": {},
   "outputs": [
    {
     "data": {
      "text/plain": [
       "(4315, 13)"
      ]
     },
     "execution_count": 94,
     "metadata": {},
     "output_type": "execute_result"
    }
   ],
   "source": [
    "df.shape"
   ]
  },
  {
   "cell_type": "code",
   "execution_count": null,
   "id": "ea493531-852d-40bb-bffc-47042cef6392",
   "metadata": {},
   "outputs": [
    {
     "name": "stderr",
     "output_type": "stream",
     "text": [
      "/opt/conda/lib/python3.7/site-packages/ipykernel_launcher.py:3: FutureWarning: The default value of regex will change from True to False in a future version.\n",
      "  This is separate from the ipykernel package so we can avoid doing imports until\n"
     ]
    }
   ],
   "source": [
    "df=df.rename(columns={\"Unnamed: 0\": \"id\", 'time':'time_min', 'gross':'gross_mil_usd', 'stars':'actors'}).copy()\n",
    "df['time_min']=df['time_min'].str.replace('min', '',regex=False)\n",
    "df['gross_mil_usd']=df['gross_mil_usd'].str.replace('\\$|M', '')"
   ]
  },
  {
   "cell_type": "code",
   "execution_count": null,
   "id": "224220fc-15e7-4215-98f0-2ac5db47b750",
   "metadata": {},
   "outputs": [],
   "source": [
    "df['year']=df['year'].str.extract('(\\d+)').astype(int)"
   ]
  },
  {
   "cell_type": "code",
   "execution_count": null,
   "id": "185536c6-eb3a-452b-a45c-0a4a8553bebb",
   "metadata": {},
   "outputs": [],
   "source": [
    "df['time_min']=df['time_min'].str.extract('(\\d+)').astype(float)"
   ]
  },
  {
   "cell_type": "code",
   "execution_count": null,
   "id": "e7da18fe-1a7f-4484-b2cc-c59f35d0c5ed",
   "metadata": {},
   "outputs": [],
   "source": [
    "df['gross_mil_usd']=df['gross_mil_usd'].str.extract('(\\d+\\.\\d+)').astype(float)"
   ]
  },
  {
   "cell_type": "code",
   "execution_count": null,
   "id": "b509e6b2-584b-4b52-88a4-30d2c736853b",
   "metadata": {},
   "outputs": [],
   "source": [
    "df['metascore']=df['metascore'].str.extract('(\\d+)').astype(float)"
   ]
  },
  {
   "cell_type": "code",
   "execution_count": null,
   "id": "9888b50c-b18c-4b61-99b8-8fc9a442268d",
   "metadata": {},
   "outputs": [],
   "source": [
    "df['votes'] = df['votes'].str.replace(',', '').astype(float)"
   ]
  },
  {
   "cell_type": "code",
   "execution_count": 144,
   "id": "796c6591-146d-44d5-b901-3f315af14787",
   "metadata": {},
   "outputs": [],
   "source": [
    "idx = np.arange(len(df['title']))\n",
    "df['id'] = idx"
   ]
  },
  {
   "cell_type": "code",
   "execution_count": 147,
   "id": "f86ebebf-d41d-401c-a747-aed5f225d14b",
   "metadata": {},
   "outputs": [
    {
     "name": "stdout",
     "output_type": "stream",
     "text": [
      "<class 'pandas.core.frame.DataFrame'>\n",
      "Int64Index: 4315 entries, 0 to 4354\n",
      "Data columns (total 13 columns):\n",
      " #   Column         Non-Null Count  Dtype  \n",
      "---  ------         --------------  -----  \n",
      " 0   id             4315 non-null   int64  \n",
      " 1   title          4315 non-null   object \n",
      " 2   year           4315 non-null   int64  \n",
      " 3   certificate    4315 non-null   object \n",
      " 4   time_min       4315 non-null   float64\n",
      " 5   genre          4315 non-null   object \n",
      " 6   rating         4315 non-null   float64\n",
      " 7   metascore      3725 non-null   float64\n",
      " 8   simple_desc    4315 non-null   object \n",
      " 9   directors      4315 non-null   object \n",
      " 10  actors         4315 non-null   object \n",
      " 11  votes          4315 non-null   float64\n",
      " 12  gross_mil_usd  3498 non-null   float64\n",
      "dtypes: float64(5), int64(2), object(6)\n",
      "memory usage: 601.0+ KB\n"
     ]
    }
   ],
   "source": [
    "df.info()"
   ]
  },
  {
   "cell_type": "code",
   "execution_count": 148,
   "id": "57ebfbce-7c1a-41ed-850f-f87e13b8dce8",
   "metadata": {},
   "outputs": [],
   "source": [
    "# THE FOLLOWING IS PREPARATION FOR big_query.ipynb\n",
    "# store dataset in gcs. RUN ONCE\n",
    "client = storage.Client()\n",
    "bucket = client.get_bucket('ezhou1-bucket1')    \n",
    "bucket.blob('imdb/movies_cleaned.csv').upload_from_string(df.to_csv(index=False), 'movies_cleaned.csv')"
   ]
  },
  {
   "cell_type": "markdown",
   "id": "a370d481-a084-4e14-8429-d39d63479306",
   "metadata": {},
   "source": [
    "Visualize data"
   ]
  },
  {
   "cell_type": "code",
   "execution_count": null,
   "id": "a245ea23-7d13-4c75-8b0c-957e18b83256",
   "metadata": {},
   "outputs": [],
   "source": [
    "df['directors'] = df['directors'].apply(eval) #convert list of type String to type List\n",
    "df['actors'] = df['actors'].apply(eval) #convert list of type String to type List\n",
    "\n",
    "# Get unique items & counts\n",
    "actor= df['actors'].explode().value_counts().index.tolist()\n",
    "frequency = df['actors'].explode().value_counts().values\n",
    "df2 = pd.DataFrame({\n",
    "    'actor': actor[:20],\n",
    "    'frequency' : frequency[:20]\n",
    "})\n",
    "\n",
    "# Create plot\n",
    "plt.barh(y=df2.actor, width=df2.frequency)\n",
    "plt.xlabel('Number of Movies Starred In')\n",
    "plt.title('Number of movies per actor (top 20)')\n",
    "plt.gca().invert_yaxis()\n",
    "plt.show()"
   ]
  }
 ],
 "metadata": {
  "environment": {
   "kernel": "python3",
   "name": "common-cpu.m108",
   "type": "gcloud",
   "uri": "gcr.io/deeplearning-platform-release/base-cpu:m108"
  },
  "kernelspec": {
   "display_name": "Python 3",
   "language": "python",
   "name": "python3"
  },
  "language_info": {
   "codemirror_mode": {
    "name": "ipython",
    "version": 3
   },
   "file_extension": ".py",
   "mimetype": "text/x-python",
   "name": "python",
   "nbconvert_exporter": "python",
   "pygments_lexer": "ipython3",
   "version": "3.7.12"
  }
 },
 "nbformat": 4,
 "nbformat_minor": 5
}
