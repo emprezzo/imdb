{
 "cells": [
  {
   "cell_type": "markdown",
   "id": "dcfbe5da-242b-4894-8c3e-f951d395a4a6",
   "metadata": {
    "tags": []
   },
   "source": [
    "### Load required libraries/packages"
   ]
  },
  {
   "cell_type": "code",
   "execution_count": 41,
   "id": "b73d4634-a494-4013-9566-667f6533a4f1",
   "metadata": {},
   "outputs": [],
   "source": [
    "# pip install requests\n",
    "# pip install html5lib\n",
    "# pip install bs4"
   ]
  },
  {
   "cell_type": "code",
   "execution_count": 42,
   "id": "99cc4b60-862e-4545-88b9-3109077f9114",
   "metadata": {},
   "outputs": [],
   "source": [
    "from bs4 import BeautifulSoup\n",
    "import requests\n",
    "import re\n",
    "import pandas as pd\n",
    "import os"
   ]
  },
  {
   "cell_type": "markdown",
   "id": "0669622b-8b61-4d51-b116-68fb04a580cc",
   "metadata": {
    "tags": []
   },
   "source": [
    "#### Take a large sample of movies for each genre by scraping IMDB movie rating and details using Python and saving the details into .csv file"
   ]
  },
  {
   "cell_type": "markdown",
   "id": "2b343efe-47b8-46d2-ad90-357279b175ce",
   "metadata": {
    "tags": []
   },
   "source": [
    "### Parsing details of top 250 movies (by user ratings) for each genre\n",
    "Specifications: Feature Film, Rating Count at least 20,000, (Sorted by IMDb Rating Descending)"
   ]
  },
  {
   "cell_type": "code",
   "execution_count": 43,
   "id": "7a3b40cf-3118-4f13-9254-a8f6ae4fc384",
   "metadata": {},
   "outputs": [],
   "source": [
    "HEADERS = {\n",
    "    'User-Agent': 'Mozilla/5.0 (Macintosh; Intel Mac OS X 10.15; rv:96.0) Gecko/20100101 Firefox/96.0'}\n",
    "\n",
    "def get_genre_url_dict(url):\n",
    "    '''\n",
    "    Returns a dictionary of genres (keys) and their IMDb urls (values) to that genre.\n",
    "        \n",
    "        Params:\n",
    "            url (str) : A string of the url to the IMDb 'Browse Movies by Genre' page, containing genres.\n",
    "    '''\n",
    "    # parsing movie-only genres    \n",
    "    with requests.Session() as session:\n",
    "        r = session.get(url, headers=HEADERS)\n",
    "        #print(r.status_code)\n",
    "        soup = BeautifulSoup(r.text, \"html.parser\")\n",
    "        genres = soup.select('div.ipc-chip-list__scroller span')\n",
    "        genres_ls = []\n",
    "        counter = 0\n",
    "        for genre in genres:        \n",
    "            if counter == 1:\n",
    "                genres_ls.append(genre.contents[0])\n",
    "            if genre.contents[0].lower() == 'thriller':\n",
    "                counter += 1\n",
    "    # Getting URLs of different pages\n",
    "    url_dict = {}\n",
    "\n",
    "    for genre in genres_ls:\n",
    "        url = \"https://www.imdb.com/search/title/?title_type=feature&num_votes=20000,&genres={}&sort=user_rating,desc&count=250\"\n",
    "        formated_url = url.format(genre)\n",
    "        url_dict[genre] = formated_url\n",
    "    \n",
    "    return url_dict\n",
    "\n",
    "def get_movies(url, interval, file_name):\n",
    "    '''\n",
    "    Returns top 250 movies (sorted by popularity, desc) for a single genre as a .csv file\n",
    "        \n",
    "        Params:\n",
    "            url (str) : A string of the url to the IMDb page of the movie genre.\n",
    "            interval (int) : Number of seconds for which the code is required to be stopped.\n",
    "            file_name (str) : The name of the resulting .csv file to be saved\n",
    "    '''\n",
    "    # create directory to store datasets (.csv files)\n",
    "    if not os.path.exists('datasets/'):\n",
    "        os.makedirs('datasets/', 0o777, exist_ok=True)\n",
    "        os.chmod('datasets/', 0o777)\n",
    "        os.chmod('datasets/', 0o777)\n",
    "    \n",
    "    # Sending a request to the specifed URL\n",
    "    resp = requests.get(url, headers=HEADERS)\n",
    "\n",
    "    # Converting the response to Beautiful Soup Object\n",
    "    content = BeautifulSoup(resp.content, 'html.parser')\n",
    "    movie_list = []\n",
    "    # Iterating throught the list of movies \n",
    "    for movie in content.select('.lister-item-content'):\n",
    "\n",
    "        try:\n",
    "            # Creating a python dictonary\n",
    "            data = {\n",
    "\n",
    "                \"title\":movie.select('.lister-item-header')[0].a.get_text().strip(),\n",
    "                \"year\":movie.select('.lister-item-year')[0].get_text().strip(),\n",
    "                \"certificate\":movie.select('.certificate')[0].get_text().strip(),\n",
    "                \"time\":movie.select('.runtime')[0].get_text().strip(),\n",
    "                \"genre\":movie.select('.genre')[0].get_text().strip(),\n",
    "                \"rating\":movie.select('.ratings-imdb-rating')[0].get_text().strip(),\n",
    "                \"metascore\":movie.find('span', class_='metascore').text if movie.find('span', class_='metascore') else '-',\n",
    "                \"simple_desc\":movie.select('.text-muted')[2].get_text().strip(),\n",
    "                \"directors\":'-',\n",
    "                \"stars\":'-',\n",
    "                \"votes\":'-',#movie.select('.sort-num_votes-visible')[0].get_text().strip(),\n",
    "                \"gross\":'-'#movie.select('.sort-num_votes-visible')[1].get_text().strip() if len(nv) > 1 else '-' \n",
    "\n",
    "\n",
    "            }\n",
    "            # adding directors\n",
    "            # soup = BeautifulSoup(html,'html5lib')\n",
    "            # p_tag = soup.find('p')\n",
    "            # span = p_tag.find('span',class_ = \"ghost\")\n",
    "            # prev = list(span.previous_siblings) #Finds all the tags before the span tag with class ghost and converts them into a list\n",
    "            # prev = [str(x) for x in prev]\n",
    "            # prev = ''.join(prev) #Converts the list to a string\n",
    "            # soup2 = BeautifulSoup(prev,'html5lib') #Creates a new BeautifulSoup object with the newly formed string\n",
    "            # a_tags = soup2.find_all('a')\n",
    "            # for a in a_tags:\n",
    "            #     txt = a.text.strip()\n",
    "            #     data['directors'].append(txt)\n",
    "\n",
    "            directors_and_stars = movie.find_all(text=lambda t: ('Director' in t) and (':' in t))\n",
    "\n",
    "            for d in directors_and_stars:\n",
    "                d_and_s = [t.strip() for t in d.find_previous('p').find_all(text=True)[1:] if t.strip() and t.strip() != ',']\n",
    "                try:\n",
    "                    d_ls = d_and_s[:d_and_s.index('|')]\n",
    "                    s_ls = d_and_s[d_and_s.index('|')+2:]\n",
    "                except ValueError:\n",
    "                    print(d_and_s)\n",
    "                \n",
    "                data[\"directors\"] = d_ls\n",
    "                data[\"stars\"] = s_ls\n",
    "            # adding stars (main actors)\n",
    "            \n",
    "            \n",
    "            # adding votes, gross\n",
    "            nv = movie.find_all('span', attrs={'name':'nv'})\n",
    "            data['votes'] = nv[0].text\n",
    "            data['gross'] = nv[1].text if len(nv) > 1 else '-'\n",
    "            \n",
    "        except IndexError:\n",
    "            continue\n",
    "        movie_list.append(data)\n",
    "    dataframe = pd.DataFrame(movie_list)    \n",
    "    dataframe.to_csv('datasets/' + file_name)\n",
    "\n",
    "    \n",
    "def get_all_movies(csv_list):\n",
    "    '''\n",
    "    Returns a single Pandas.dataframe containing movie data for movies across all genres\n",
    "    '''\n",
    "    l = []\n",
    " \n",
    "    for f in csv_list:\n",
    "        l.append(pd.read_csv(f))\n",
    "\n",
    "    df_res = pd.concat(l, ignore_index=True)\n",
    "    return df_res"
   ]
  },
  {
   "cell_type": "code",
   "execution_count": 44,
   "id": "98efd500-c4f3-4b89-af81-9d043f71e1fe",
   "metadata": {},
   "outputs": [
    {
     "name": "stdout",
     "output_type": "stream",
     "text": [
      "Saved: Action.csv\n",
      "Saved: Adventure.csv\n",
      "Saved: Animation.csv\n",
      "Saved: Biography.csv\n",
      "Saved: Comedy.csv\n",
      "Saved: Crime.csv\n",
      "Saved: Documentary.csv\n",
      "Saved: Drama.csv\n",
      "Saved: Family.csv\n",
      "Saved: Fantasy.csv\n",
      "Saved: Film-Noir.csv\n",
      "Saved: History.csv\n",
      "Saved: Horror.csv\n",
      "Saved: Music.csv\n",
      "Saved: Musical.csv\n",
      "Saved: Mystery.csv\n",
      "Saved: Romance.csv\n",
      "Saved: Sci-Fi.csv\n",
      "Saved: Short.csv\n",
      "Saved: Sport.csv\n",
      "Saved: Thriller.csv\n"
     ]
    }
   ],
   "source": [
    "base_url = 'https://www.imdb.com/feature/genre/?ref_=nv_ch_gr'\n",
    "url_dict = get_genre_url_dict(base_url)\n",
    "csv_list = []\n",
    "for genre, url in url_dict.items():\n",
    "    get_movies(url, 1, genre+'.csv')\n",
    "    csv_list.append('datasets/'+genre+'.csv')\n",
    "    print(\"Saved:\", genre+'.csv')"
   ]
  }
 ],
 "metadata": {
  "environment": {
   "kernel": "python3",
   "name": "common-cpu.m103",
   "type": "gcloud",
   "uri": "gcr.io/deeplearning-platform-release/base-cpu:m103"
  },
  "kernelspec": {
   "display_name": "Python 3",
   "language": "python",
   "name": "python3"
  },
  "language_info": {
   "codemirror_mode": {
    "name": "ipython",
    "version": 3
   },
   "file_extension": ".py",
   "mimetype": "text/x-python",
   "name": "python",
   "nbconvert_exporter": "python",
   "pygments_lexer": "ipython3",
   "version": "3.7.12"
  }
 },
 "nbformat": 4,
 "nbformat_minor": 5
}
