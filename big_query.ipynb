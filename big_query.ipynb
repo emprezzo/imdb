{
 "cells": [
  {
   "cell_type": "code",
   "execution_count": null,
   "id": "9deea8a9-0c32-4b4c-8722-ac42dff8694d",
   "metadata": {},
   "outputs": [],
   "source": [
    "# Data processing\n",
    "import pandas as pd\n",
    "\n",
    "# Visualizations\n",
    "import matplotlib.pyplot as plt\n",
    "import seaborn as sns\n",
    "\n",
    "# BigQuery API\n",
    "from google.cloud import bigquery "
   ]
  },
  {
   "cell_type": "markdown",
   "id": "ead0ad5e-e19a-4f66-bc20-f8b67b6b1501",
   "metadata": {},
   "source": [
    "#### 1. Download the IMDb dataset we previously scraped"
   ]
  },
  {
   "cell_type": "code",
   "execution_count": 83,
   "id": "b1181ce3-e79f-42bc-a35a-7f7c1dd05cb9",
   "metadata": {},
   "outputs": [
    {
     "name": "stdout",
     "output_type": "stream",
     "text": [
      "Updated property [core/project].\n",
      "Copying gs://ezhou1-bucket1/imdb/movies.csv...\n",
      "Copying gs://ezhou1-bucket1/imdb/movies_cleaned.csv...                          \n",
      "Copying gs://ezhou1-bucket1/imdb/movies_cleaned.json...                         \n",
      "/ [3 files][  4.8 MiB/  4.8 MiB]                                                \n",
      "Operation completed over 3 objects/4.8 MiB.                                      \n"
     ]
    }
   ],
   "source": [
    "import sys\n",
    "PROJECT_ID = \"ezhou1\" #@param {type:\"string\"}\n",
    "!gcloud config set project $PROJECT_ID\n",
    "!gsutil cp -r gs://ezhou1-bucket1/imdb ."
   ]
  },
  {
   "cell_type": "markdown",
   "id": "8b260ce0-2a3d-428c-8908-57dd22b0eefd",
   "metadata": {},
   "source": [
    "#### 2. Load IMDb data into BQ tables"
   ]
  },
  {
   "cell_type": "code",
   "execution_count": null,
   "id": "ddab5436-3feb-4235-9bbd-4bfd878deb1a",
   "metadata": {},
   "outputs": [
    {
     "name": "stdout",
     "output_type": "stream",
     "text": [
      "env: BASE_DIR=/ezhou1\n"
     ]
    }
   ],
   "source": [
    "%env BASE_DIR=/ezhou1\n",
    "dataset_id='imdb'"
   ]
  },
  {
   "cell_type": "code",
   "execution_count": null,
   "id": "2589295c-437d-4a0f-a6c7-032c2690c50a",
   "metadata": {},
   "outputs": [
    {
     "name": "stdout",
     "output_type": "stream",
     "text": [
      "W0609 22:35:02.990003 140198942689088 bigquery_client.py:731] There is no apilog flag so non-critical logging is disabled.\n",
      "Dataset 'ezhou1:imdb' successfully created.\n"
     ]
    }
   ],
   "source": [
    "!bq --location=US mk --dataset $dataset_id"
   ]
  },
  {
   "cell_type": "code",
   "execution_count": 50,
   "id": "8b367c3d-158f-4dae-8319-efd708725e94",
   "metadata": {},
   "outputs": [
    {
     "name": "stdout",
     "output_type": "stream",
     "text": [
      "W0609 23:19:58.328186 140184362997568 bigquery_client.py:731] There is no apilog flag so non-critical logging is disabled.\n",
      "Waiting on bqjob_r71e13a898c704fdb_00000188a275a279_1 ... (1s) Current status: DONE   \n"
     ]
    }
   ],
   "source": [
    "!bq --location=US load --autodetect --source_format=CSV --encoding UTF-8 ezhou1:imdb.movie gs://ezhou1-bucket1/imdb/movies_cleaned.csv"
   ]
  },
  {
   "cell_type": "code",
   "execution_count": 82,
   "id": "2c75e13f-30cc-4da1-9e49-220bb57bf9f2",
   "metadata": {},
   "outputs": [
    {
     "data": {
      "application/vnd.jupyter.widget-view+json": {
       "model_id": "187f1facdc9e4c9fab2d75f23d858068",
       "version_major": 2,
       "version_minor": 0
      },
      "text/plain": [
       "Query is running:   0%|          |"
      ]
     },
     "metadata": {},
     "output_type": "display_data"
    },
    {
     "data": {
      "application/vnd.jupyter.widget-view+json": {
       "model_id": "1dad81ea99574026836e5fba43a2c862",
       "version_major": 2,
       "version_minor": 0
      },
      "text/plain": [
       "Downloading:   0%|          |"
      ]
     },
     "metadata": {},
     "output_type": "display_data"
    },
    {
     "data": {
      "text/html": [
       "<div>\n",
       "<style scoped>\n",
       "    .dataframe tbody tr th:only-of-type {\n",
       "        vertical-align: middle;\n",
       "    }\n",
       "\n",
       "    .dataframe tbody tr th {\n",
       "        vertical-align: top;\n",
       "    }\n",
       "\n",
       "    .dataframe thead th {\n",
       "        text-align: right;\n",
       "    }\n",
       "</style>\n",
       "<table border=\"1\" class=\"dataframe\">\n",
       "  <thead>\n",
       "    <tr style=\"text-align: right;\">\n",
       "      <th></th>\n",
       "      <th>x</th>\n",
       "    </tr>\n",
       "  </thead>\n",
       "  <tbody>\n",
       "    <tr>\n",
       "      <th>0</th>\n",
       "      <td>[a']]</td>\n",
       "    </tr>\n",
       "    <tr>\n",
       "      <th>1</th>\n",
       "      <td>[a']]</td>\n",
       "    </tr>\n",
       "    <tr>\n",
       "      <th>2</th>\n",
       "      <td>[a']]</td>\n",
       "    </tr>\n",
       "    <tr>\n",
       "      <th>3</th>\n",
       "      <td>[n']]</td>\n",
       "    </tr>\n",
       "    <tr>\n",
       "      <th>4</th>\n",
       "      <td>[n']]</td>\n",
       "    </tr>\n",
       "    <tr>\n",
       "      <th>...</th>\n",
       "      <td>...</td>\n",
       "    </tr>\n",
       "    <tr>\n",
       "      <th>4310</th>\n",
       "      <td>[a']]</td>\n",
       "    </tr>\n",
       "    <tr>\n",
       "      <th>4311</th>\n",
       "      <td>[a']]</td>\n",
       "    </tr>\n",
       "    <tr>\n",
       "      <th>4312</th>\n",
       "      <td>[s']]</td>\n",
       "    </tr>\n",
       "    <tr>\n",
       "      <th>4313</th>\n",
       "      <td>[s']]</td>\n",
       "    </tr>\n",
       "    <tr>\n",
       "      <th>4314</th>\n",
       "      <td>[s']]</td>\n",
       "    </tr>\n",
       "  </tbody>\n",
       "</table>\n",
       "<p>4315 rows × 1 columns</p>\n",
       "</div>"
      ],
      "text/plain": [
       "          x\n",
       "0     [a']]\n",
       "1     [a']]\n",
       "2     [a']]\n",
       "3     [n']]\n",
       "4     [n']]\n",
       "...     ...\n",
       "4310  [a']]\n",
       "4311  [a']]\n",
       "4312  [s']]\n",
       "4313  [s']]\n",
       "4314  [s']]\n",
       "\n",
       "[4315 rows x 1 columns]"
      ]
     },
     "execution_count": 82,
     "metadata": {},
     "output_type": "execute_result"
    }
   ],
   "source": [
    "%%bigquery\n",
    "WITH k AS (\n",
    "  SELECT actors AS x FROM imdb.movie\n",
    ")\n",
    "SELECT \n",
    "  ARRAY(SELECT * FROM UNNEST(SPLIT(SUBSTR(x, LENGTH(x) - 2)))) AS x\n",
    "FROM k"
   ]
  }
 ],
 "metadata": {
  "environment": {
   "kernel": "python3",
   "name": "common-cpu.m108",
   "type": "gcloud",
   "uri": "gcr.io/deeplearning-platform-release/base-cpu:m108"
  },
  "kernelspec": {
   "display_name": "Python 3",
   "language": "python",
   "name": "python3"
  },
  "language_info": {
   "codemirror_mode": {
    "name": "ipython",
    "version": 3
   },
   "file_extension": ".py",
   "mimetype": "text/x-python",
   "name": "python",
   "nbconvert_exporter": "python",
   "pygments_lexer": "ipython3",
   "version": "3.7.12"
  }
 },
 "nbformat": 4,
 "nbformat_minor": 5
}
